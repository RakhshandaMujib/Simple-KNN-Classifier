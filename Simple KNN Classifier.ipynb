{
 "cells": [
  {
   "cell_type": "code",
   "execution_count": 10,
   "metadata": {},
   "outputs": [],
   "source": [
    "#Import the packages:\n",
    "\n",
    "import numpy as np\n",
    "import seaborn as sns\n",
    "import pandas as pd\n",
    "from sklearn.model_selection import train_test_split\n",
    "from sklearn.neighbors import KNeighborsClassifier\n",
    "from sklearn.preprocessing import MinMaxScaler"
   ]
  },
  {
   "cell_type": "code",
   "execution_count": 3,
   "metadata": {},
   "outputs": [
    {
     "data": {
      "text/html": [
       "<div>\n",
       "<style scoped>\n",
       "    .dataframe tbody tr th:only-of-type {\n",
       "        vertical-align: middle;\n",
       "    }\n",
       "\n",
       "    .dataframe tbody tr th {\n",
       "        vertical-align: top;\n",
       "    }\n",
       "\n",
       "    .dataframe thead th {\n",
       "        text-align: right;\n",
       "    }\n",
       "</style>\n",
       "<table border=\"1\" class=\"dataframe\">\n",
       "  <thead>\n",
       "    <tr style=\"text-align: right;\">\n",
       "      <th></th>\n",
       "      <th>fruit_label</th>\n",
       "      <th>fruit_name</th>\n",
       "      <th>fruit_subtype</th>\n",
       "      <th>mass</th>\n",
       "      <th>width</th>\n",
       "      <th>height</th>\n",
       "      <th>color_score</th>\n",
       "    </tr>\n",
       "  </thead>\n",
       "  <tbody>\n",
       "    <tr>\n",
       "      <th>0</th>\n",
       "      <td>1</td>\n",
       "      <td>apple</td>\n",
       "      <td>granny_smith</td>\n",
       "      <td>192</td>\n",
       "      <td>8.4</td>\n",
       "      <td>7.3</td>\n",
       "      <td>0.55</td>\n",
       "    </tr>\n",
       "    <tr>\n",
       "      <th>1</th>\n",
       "      <td>1</td>\n",
       "      <td>apple</td>\n",
       "      <td>granny_smith</td>\n",
       "      <td>180</td>\n",
       "      <td>8.0</td>\n",
       "      <td>6.8</td>\n",
       "      <td>0.59</td>\n",
       "    </tr>\n",
       "    <tr>\n",
       "      <th>2</th>\n",
       "      <td>1</td>\n",
       "      <td>apple</td>\n",
       "      <td>granny_smith</td>\n",
       "      <td>176</td>\n",
       "      <td>7.4</td>\n",
       "      <td>7.2</td>\n",
       "      <td>0.60</td>\n",
       "    </tr>\n",
       "    <tr>\n",
       "      <th>3</th>\n",
       "      <td>2</td>\n",
       "      <td>mandarin</td>\n",
       "      <td>mandarin</td>\n",
       "      <td>86</td>\n",
       "      <td>6.2</td>\n",
       "      <td>4.7</td>\n",
       "      <td>0.80</td>\n",
       "    </tr>\n",
       "    <tr>\n",
       "      <th>4</th>\n",
       "      <td>2</td>\n",
       "      <td>mandarin</td>\n",
       "      <td>mandarin</td>\n",
       "      <td>84</td>\n",
       "      <td>6.0</td>\n",
       "      <td>4.6</td>\n",
       "      <td>0.79</td>\n",
       "    </tr>\n",
       "  </tbody>\n",
       "</table>\n",
       "</div>"
      ],
      "text/plain": [
       "   fruit_label fruit_name fruit_subtype  mass  width  height  color_score\n",
       "0            1      apple  granny_smith   192    8.4     7.3         0.55\n",
       "1            1      apple  granny_smith   180    8.0     6.8         0.59\n",
       "2            1      apple  granny_smith   176    7.4     7.2         0.60\n",
       "3            2   mandarin      mandarin    86    6.2     4.7         0.80\n",
       "4            2   mandarin      mandarin    84    6.0     4.6         0.79"
      ]
     },
     "execution_count": 3,
     "metadata": {},
     "output_type": "execute_result"
    }
   ],
   "source": [
    "#Read the dataset and view it:\n",
    "\n",
    "fruit = pd.read_table('Datasets used/fruit_data_with_colors.txt')\n",
    "fruit.head()"
   ]
  },
  {
   "cell_type": "code",
   "execution_count": 4,
   "metadata": {},
   "outputs": [],
   "source": [
    "#Create the feature vector and the label:\n",
    "\n",
    "feature_names = ['mass', 'width', 'height', 'color_score']\n",
    "X = fruit[feature_names]\n",
    "y = fruit['fruit_label']"
   ]
  },
  {
   "cell_type": "code",
   "execution_count": 33,
   "metadata": {},
   "outputs": [
    {
     "data": {
      "text/plain": [
       "{1: 'Apple', 2: 'Mandarin', 3: 'Orange', 4: 'Lemon'}"
      ]
     },
     "execution_count": 33,
     "metadata": {},
     "output_type": "execute_result"
    }
   ],
   "source": [
    "#Create a dictionary with the names and label of the fruits:\n",
    "label_name = dict(zip(fruit['fruit_label'], fruit['fruit_name']))\n",
    "for i in range(1,5):\n",
    "    label_name[i] = label_name[i].title()\n",
    "label_name"
   ]
  },
  {
   "cell_type": "code",
   "execution_count": 52,
   "metadata": {},
   "outputs": [
    {
     "name": "stdout",
     "output_type": "stream",
     "text": [
      "Splitting done...\n",
      "Size of dataset: 59\n",
      "Size of training dataset: 44\n",
      "Size of test dataset: 15\n"
     ]
    }
   ],
   "source": [
    "#Split the dataset into training and test sets:\n",
    "\n",
    "X_train, X_test, y_train, y_test = train_test_split(X, y, random_state = 0)\n",
    "print(f'Splitting done...\\nSize of dataset: {len(fruit)}')\n",
    "print(f'Size of training dataset: {len(X_train)}\\nSize of test dataset: {len(X_test)}')"
   ]
  },
  {
   "cell_type": "code",
   "execution_count": 53,
   "metadata": {},
   "outputs": [
    {
     "name": "stdout",
     "output_type": "stream",
     "text": [
      "Before transformation the training dataset looked like: \n",
      "\n",
      "    mass  width  height  color_score\n",
      "42   154    7.2     7.2         0.82\n",
      "48   174    7.3    10.1         0.72\n",
      "7     76    5.8     4.0         0.81\n",
      "\n",
      "After transformation the training dataset looked like: \n",
      "\n",
      "[[0.27857143 0.41176471 0.49230769 0.72972973]\n",
      " [0.35       0.44117647 0.93846154 0.45945946]\n",
      " [0.         0.         0.         0.7027027 ]]\n",
      "\n",
      "Before transformation the test dataset looked like: \n",
      "\n",
      "    mass  width  height  color_score\n",
      "26   362    9.6     9.2         0.74\n",
      "35   150    7.1     7.9         0.75\n",
      "43   194    7.2    10.3         0.70\n",
      "\n",
      "After transformation the test dataset looked like: \n",
      "\n",
      "[[1.02142857 1.11764706 0.8        0.51351351]\n",
      " [0.26428571 0.38235294 0.6        0.54054054]\n",
      " [0.42142857 0.41176471 0.96923077 0.40540541]]\n"
     ]
    },
    {
     "name": "stderr",
     "output_type": "stream",
     "text": [
      "C:\\Users\\sony\\Anaconda3\\lib\\site-packages\\sklearn\\preprocessing\\data.py:323: DataConversionWarning: Data with input dtype int64, float64 were all converted to float64 by MinMaxScaler.\n",
      "  return self.partial_fit(X, y)\n"
     ]
    }
   ],
   "source": [
    "#Do the scaling: \n",
    "\n",
    "scaler = MinMaxScaler() #Create an object of MinMaxLScaler\n",
    "\n",
    "X_train_scaled = scaler.fit_transform(X_train) #For training use fit_transform.\n",
    "X_test_scaled = scaler.transform(X_test) #For testing use transform only.\n",
    "\n",
    "print(f'Before transformation the training dataset looked like: \\n\\n{X_train[:3]}')\n",
    "print(f'\\nAfter transformation the training dataset looked like: \\n\\n{X_train_scaled[:3]}')\n",
    "print(f'\\nBefore transformation the test dataset looked like: \\n\\n{X_test[:3]}')\n",
    "print(f'\\nAfter transformation the test dataset looked like: \\n\\n{X_test_scaled[:3]}')"
   ]
  },
  {
   "cell_type": "markdown",
   "metadata": {},
   "source": [
    "Note: \n",
    "* fit_transform() uses the statistics (like measure of central tendencies/ dispersion etc.) of the dataset to do the transformation. We want to use those for the training. \n",
    "* That should not be the case with the testing dataset. We want it to be as independent as possible. So, we use transform() for the transformation. No fitting is needed. "
   ]
  },
  {
   "cell_type": "code",
   "execution_count": 54,
   "metadata": {},
   "outputs": [],
   "source": [
    "#Do the modelling:\n",
    "\n",
    "knn = KNeighborsClassifier(n_neighbors = 5)\n",
    "mod = knn.fit(X_train_scaled, y_train) #Save the model"
   ]
  },
  {
   "cell_type": "code",
   "execution_count": 55,
   "metadata": {},
   "outputs": [
    {
     "name": "stdout",
     "output_type": "stream",
     "text": [
      "Accuracy of the model on training set is: 0.95\n",
      "Accuracy of the model on test set is: 1.00\n"
     ]
    }
   ],
   "source": [
    "#Evaluate the score:\n",
    "\n",
    "print(f'Accuracy of the model on training set is: {mod.score(X_train_scaled, y_train):.2f}')\n",
    "print(f'Accuracy of the model on test set is: {mod.score(X_test_scaled, y_test):.2f}')"
   ]
  },
  {
   "cell_type": "code",
   "execution_count": 59,
   "metadata": {},
   "outputs": [
    {
     "name": "stdout",
     "output_type": "stream",
     "text": [
      "[4]\n",
      "The fruit, [[5.5, 2.2, 10, 0.7]], as per the model prediction is: Lemon\n"
     ]
    }
   ],
   "source": [
    "#Pridict an unknown case:\n",
    "\n",
    "example_fruit = [[5.5, 2.2, 10, 0.7]]\n",
    "example_fruit_scaled = scaler.transform(example_fruit)\n",
    "\n",
    "print(mod.predict(example_fruit_scaled))\n",
    "print(f'The fruit, {example_fruit}, as per the model prediction is: {label_name[(mod.predict(example_fruit_scaled))[0]]}')"
   ]
  },
  {
   "cell_type": "code",
   "execution_count": 77,
   "metadata": {},
   "outputs": [
    {
     "name": "stdout",
     "output_type": "stream",
     "text": [
      "The average mass for lemons is : 150.0\n",
      "The average width for lemons is : 6.512499999999999\n",
      "The average height for lemons is : 8.856250000000001\n",
      "The average colour score for lemons is : 0.718125\n"
     ]
    }
   ],
   "source": [
    "#Validate:\n",
    "avg_color_score = np.mean(fruit[fruit['fruit_name'] == 'lemon']['color_score'])\n",
    "avg_mass = np.mean(fruit[fruit['fruit_name'] == 'lemon']['mass'])\n",
    "avg_width = np.mean(fruit[fruit['fruit_name'] == 'lemon']['width'])\n",
    "avg_height = np.mean(fruit[fruit['fruit_name'] == 'lemon']['height'])\n",
    "\n",
    "print(f'The average mass for lemons is : {avg_mass}')\n",
    "print(f'The average width for lemons is : {avg_width}')\n",
    "print(f'The average height for lemons is : {avg_height}')\n",
    "print(f'The average colour score for lemons is : {avg_color_score}')"
   ]
  },
  {
   "cell_type": "code",
   "execution_count": null,
   "metadata": {},
   "outputs": [],
   "source": []
  }
 ],
 "metadata": {
  "kernelspec": {
   "display_name": "Python 3",
   "language": "python",
   "name": "python3"
  },
  "language_info": {
   "codemirror_mode": {
    "name": "ipython",
    "version": 3
   },
   "file_extension": ".py",
   "mimetype": "text/x-python",
   "name": "python",
   "nbconvert_exporter": "python",
   "pygments_lexer": "ipython3",
   "version": "3.7.1"
  }
 },
 "nbformat": 4,
 "nbformat_minor": 2
}
